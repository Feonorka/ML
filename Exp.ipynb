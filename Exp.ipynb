{
 "cells": [
  {
   "attachments": {},
   "cell_type": "markdown",
   "metadata": {},
   "source": [
    "Регулярное выражение (regular expression или кратко regex) - строка, состоящая из специальных знаков и символов, которые указывают на шаблонное повторение или с помощью нескольких символов описывают совокупность похожих строк в виде одного шаблона.\n",
    "\n",
    "Поиск производится с помощью функции или метода search ()\n",
    "Для сопоставления применяется функция или метод match ()"
   ]
  },
  {
   "attachments": {},
   "cell_type": "markdown",
   "metadata": {},
   "source": []
  }
 ],
 "metadata": {
  "kernelspec": {
   "display_name": "Python 3",
   "language": "python",
   "name": "python3"
  },
  "language_info": {
   "name": "python",
   "version": "3.11.0"
  },
  "orig_nbformat": 4,
  "vscode": {
   "interpreter": {
    "hash": "c261aea317cc0286b3b3261fbba9abdec21eaa57589985bb7a274bf54d6cc0a7"
   }
  }
 },
 "nbformat": 4,
 "nbformat_minor": 2
}
